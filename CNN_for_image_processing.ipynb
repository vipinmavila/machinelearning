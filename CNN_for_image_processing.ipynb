{
 "cells": [
  {
   "cell_type": "markdown",
   "metadata": {},
   "source": [
    "# Convolution Neural Networks\n",
    "\n",
    "\n",
    "![alt text](LeNet_figure.png \"Title\")\n",
    "\n",
    "We will work with the MNIST digits database (Modified National Institute of Standards and Technology database). It contains 70 000 images of hand-written digits.\n",
    "\n",
    "![alt text](mnist_example.png \"Title\")\n",
    "\n",
    "The MNIST is common starting point for testing different algorithms for image recognition and processing.\n",
    "\n",
    "ANNs can usually achive averge error rates ranging from 0.21 to 1.6 %.\n",
    "\n",
    "## 1. Getting data\n",
    "\n",
    "Due to wide usage of the MNIST database, Keras has own API for downloading it.\n",
    "\n",
    "You can download the load data file *'MNIST.pckl'* if your network doesn't allow Keras API."
   ]
  },
  {
   "cell_type": "code",
   "execution_count": 8,
   "metadata": {},
   "outputs": [
    {
     "name": "stdout",
     "output_type": "stream",
     "text": [
      "((array([[[0, 0, 0, ..., 0, 0, 0],\n",
      "        [0, 0, 0, ..., 0, 0, 0],\n",
      "        [0, 0, 0, ..., 0, 0, 0],\n",
      "        ...,\n",
      "        [0, 0, 0, ..., 0, 0, 0],\n",
      "        [0, 0, 0, ..., 0, 0, 0],\n",
      "        [0, 0, 0, ..., 0, 0, 0]],\n",
      "\n",
      "       [[0, 0, 0, ..., 0, 0, 0],\n",
      "        [0, 0, 0, ..., 0, 0, 0],\n",
      "        [0, 0, 0, ..., 0, 0, 0],\n",
      "        ...,\n",
      "        [0, 0, 0, ..., 0, 0, 0],\n",
      "        [0, 0, 0, ..., 0, 0, 0],\n",
      "        [0, 0, 0, ..., 0, 0, 0]],\n",
      "\n",
      "       [[0, 0, 0, ..., 0, 0, 0],\n",
      "        [0, 0, 0, ..., 0, 0, 0],\n",
      "        [0, 0, 0, ..., 0, 0, 0],\n",
      "        ...,\n",
      "        [0, 0, 0, ..., 0, 0, 0],\n",
      "        [0, 0, 0, ..., 0, 0, 0],\n",
      "        [0, 0, 0, ..., 0, 0, 0]],\n",
      "\n",
      "       ...,\n",
      "\n",
      "       [[0, 0, 0, ..., 0, 0, 0],\n",
      "        [0, 0, 0, ..., 0, 0, 0],\n",
      "        [0, 0, 0, ..., 0, 0, 0],\n",
      "        ...,\n",
      "        [0, 0, 0, ..., 0, 0, 0],\n",
      "        [0, 0, 0, ..., 0, 0, 0],\n",
      "        [0, 0, 0, ..., 0, 0, 0]],\n",
      "\n",
      "       [[0, 0, 0, ..., 0, 0, 0],\n",
      "        [0, 0, 0, ..., 0, 0, 0],\n",
      "        [0, 0, 0, ..., 0, 0, 0],\n",
      "        ...,\n",
      "        [0, 0, 0, ..., 0, 0, 0],\n",
      "        [0, 0, 0, ..., 0, 0, 0],\n",
      "        [0, 0, 0, ..., 0, 0, 0]],\n",
      "\n",
      "       [[0, 0, 0, ..., 0, 0, 0],\n",
      "        [0, 0, 0, ..., 0, 0, 0],\n",
      "        [0, 0, 0, ..., 0, 0, 0],\n",
      "        ...,\n",
      "        [0, 0, 0, ..., 0, 0, 0],\n",
      "        [0, 0, 0, ..., 0, 0, 0],\n",
      "        [0, 0, 0, ..., 0, 0, 0]]], dtype=uint8), array([5, 0, 4, ..., 5, 6, 8], dtype=uint8)), (array([[[0, 0, 0, ..., 0, 0, 0],\n",
      "        [0, 0, 0, ..., 0, 0, 0],\n",
      "        [0, 0, 0, ..., 0, 0, 0],\n",
      "        ...,\n",
      "        [0, 0, 0, ..., 0, 0, 0],\n",
      "        [0, 0, 0, ..., 0, 0, 0],\n",
      "        [0, 0, 0, ..., 0, 0, 0]],\n",
      "\n",
      "       [[0, 0, 0, ..., 0, 0, 0],\n",
      "        [0, 0, 0, ..., 0, 0, 0],\n",
      "        [0, 0, 0, ..., 0, 0, 0],\n",
      "        ...,\n",
      "        [0, 0, 0, ..., 0, 0, 0],\n",
      "        [0, 0, 0, ..., 0, 0, 0],\n",
      "        [0, 0, 0, ..., 0, 0, 0]],\n",
      "\n",
      "       [[0, 0, 0, ..., 0, 0, 0],\n",
      "        [0, 0, 0, ..., 0, 0, 0],\n",
      "        [0, 0, 0, ..., 0, 0, 0],\n",
      "        ...,\n",
      "        [0, 0, 0, ..., 0, 0, 0],\n",
      "        [0, 0, 0, ..., 0, 0, 0],\n",
      "        [0, 0, 0, ..., 0, 0, 0]],\n",
      "\n",
      "       ...,\n",
      "\n",
      "       [[0, 0, 0, ..., 0, 0, 0],\n",
      "        [0, 0, 0, ..., 0, 0, 0],\n",
      "        [0, 0, 0, ..., 0, 0, 0],\n",
      "        ...,\n",
      "        [0, 0, 0, ..., 0, 0, 0],\n",
      "        [0, 0, 0, ..., 0, 0, 0],\n",
      "        [0, 0, 0, ..., 0, 0, 0]],\n",
      "\n",
      "       [[0, 0, 0, ..., 0, 0, 0],\n",
      "        [0, 0, 0, ..., 0, 0, 0],\n",
      "        [0, 0, 0, ..., 0, 0, 0],\n",
      "        ...,\n",
      "        [0, 0, 0, ..., 0, 0, 0],\n",
      "        [0, 0, 0, ..., 0, 0, 0],\n",
      "        [0, 0, 0, ..., 0, 0, 0]],\n",
      "\n",
      "       [[0, 0, 0, ..., 0, 0, 0],\n",
      "        [0, 0, 0, ..., 0, 0, 0],\n",
      "        [0, 0, 0, ..., 0, 0, 0],\n",
      "        ...,\n",
      "        [0, 0, 0, ..., 0, 0, 0],\n",
      "        [0, 0, 0, ..., 0, 0, 0],\n",
      "        [0, 0, 0, ..., 0, 0, 0]]], dtype=uint8), array([7, 2, 1, ..., 4, 5, 6], dtype=uint8)))\n",
      "Input for fitting shape: (60000, 28, 28)\n",
      "Output for fitting shape: (60000,)\n",
      "Input for validation shape: (10000, 28, 28)\n",
      "Output for validation shape: (10000,)\n"
     ]
    }
   ],
   "source": [
    "from tensorflow.keras.datasets import mnist\n",
    "import pandas as pd\n",
    "\n",
    "# Primary option\n",
    "data = mnist.load_data()\n",
    "print(data)\n",
    "# If network is not working, use pickle\n",
    "'''\n",
    "import pickle\n",
    "with open('MNIST.pckl', 'rb') as file:\n",
    "   data = pickle.load(file)\n",
    "'''\n",
    "\n",
    "training_set = data[0]\n",
    "validation_set = data[1]\n",
    "input_values = training_set[0]\n",
    "output_values = training_set[1]\n",
    "input_values_valid = validation_set[0]\n",
    "output_values_valid = validation_set[1]\n",
    "\n",
    "# Print shapes\n",
    "print('Input for fitting shape:', input_values.shape)\n",
    "print('Output for fitting shape:', output_values.shape)\n",
    "print('Input for validation shape:', input_values_valid.shape)\n",
    "print('Output for validation shape:', output_values_valid.shape)"
   ]
  },
  {
   "cell_type": "markdown",
   "metadata": {},
   "source": [
    "As you can see, we have 60 000 images in the fitting set, each 28x28 pixels.\n",
    "\n",
    "For demonstration, lets plot some of them:"
   ]
  },
  {
   "cell_type": "code",
   "execution_count": 9,
   "metadata": {
    "scrolled": true
   },
   "outputs": [
    {
     "data": {
      "image/png": "[encoded data removed]",
      "text/plain": [
       "<Figure size 432x288 with 25 Axes>"
      ]
     },
     "metadata": {
      "needs_background": "light"
     },
     "output_type": "display_data"
    }
   ],
   "source": [
    "%matplotlib inline\n",
    "import matplotlib.pyplot as plt\n",
    "import numpy as np\n",
    "\n",
    "fig, axs = plt.subplots(5, 5)\n",
    "# create a horizontal plot\n",
    "for row in range(0, 5):\n",
    "    for col in range(0, 5):\n",
    "        index = np.random.randint(0, 60000)\n",
    "        axs[row, col].imshow(input_values[index])"
   ]
  },
  {
   "cell_type": "markdown",
   "metadata": {},
   "source": [
    "Creating LeNet\n",
    "\n",
    "Now that we know what to expect, lets build and train our own model.\n",
    "\n",
    "Stacking layers into ConvNet is similar to what we have seen before: define *Sequential* and stack all layers that you need.\n",
    "\n",
    "This tutorial introduces four new layers: Conv2D, MaxPooling2D, and Flatten. These and correspoding parameters should be familiar from the lecture slides.\n",
    "\n",
    "**Conv2D** is the layer with convolution neurons. Each filter has convolution neurons with sparce connections and shared weights. This will effectively provide a filtered version of input. For example, layer with 5 filters provide 5 images for each input.\n",
    "\n",
    "**MaxPooling2D** provides the familiar downsampling according to maximum value of nearby elements. For example, pool size of *(2, 2)* reduces input size to 1/4 and pool size of *(4,4)* to 1/16.\n",
    "\n",
    "**Flatten** simply reshapes input into a single vector.\n",
    "\n",
    "In context of CNNs, it is common to use rectified linear units or their leaky version instead of sigmoid or hyperbolic tangent. The original LeNet implementation used the *tanh* activation. Later, *relu* was found to work better."
   ]
  },
  {
   "cell_type": "code",
   "execution_count": 48,
   "metadata": {},
   "outputs": [
    {
     "name": "stdout",
     "output_type": "stream",
     "text": [
      "(28, 28, 1)\n"
     ]
    }
   ],
   "source": [
    "from tensorflow.keras.layers import Conv2D, MaxPooling2D, Flatten, Dense\n",
    "from tensorflow.keras.models import Sequential\n",
    "\n",
    "# Get input shape without batch size\n",
    "input_shape = input_values.shape[1:] \n",
    "print(input_shape)\n",
    "\n",
    "model = Sequential()\n",
    "model.add(Conv2D(filters=10,\n",
    "                 kernel_size=10,\n",
    "                 strides=2,\n",
    "                 input_shape=input_shape,\n",
    "                 padding='same',\n",
    "                 activation='relu',\n",
    "                 name='conv1'))\n",
    "\n",
    "model.add(MaxPooling2D(pool_size=(2, 2),\n",
    "                       padding='valid',\n",
    "                       name='pool1'))\n",
    "\n",
    "model.add(Conv2D(filters=18,\n",
    "                 kernel_size=10,\n",
    "                 strides=2,\n",
    "                 input_shape=input_shape,\n",
    "                 padding='same',\n",
    "                 activation='relu',\n",
    "                 name='conv2'))\n",
    "\n",
    "model.add(MaxPooling2D(pool_size=(2, 2),\n",
    "                       padding='valid',\n",
    "                       name='pool2'))\n",
    "\n",
    "model.add(Flatten(name='hidden4'))\n",
    "\n",
    "model.add(Dense(10, activation='softmax',\n",
    "                kernel_initializer='random_uniform',\n",
    "                bias_initializer='random_uniform'))"
   ]
  },
  {
   "cell_type": "markdown",
   "metadata": {},
   "source": [
    "For compiling the model we use categorical crossentropy as loss function. Categorical crossentropy together with softmax output is usually good choice to predict multiple mutually-exclusive classes (digits are not one and another at same time)."
   ]
  },
  {
   "cell_type": "code",
   "execution_count": 49,
   "metadata": {},
   "outputs": [
    {
     "name": "stdout",
     "output_type": "stream",
     "text": [
      "_________________________________________________________________\n",
      "Layer (type)                 Output Shape              Param #   \n",
      "=================================================================\n",
      "conv1 (Conv2D)               (None, 14, 14, 10)        1010      \n",
      "_________________________________________________________________\n",
      "pool1 (MaxPooling2D)         (None, 7, 7, 10)          0         \n",
      "_________________________________________________________________\n",
      "conv2 (Conv2D)               (None, 4, 4, 18)          18018     \n",
      "_________________________________________________________________\n",
      "pool2 (MaxPooling2D)         (None, 2, 2, 18)          0         \n",
      "_________________________________________________________________\n",
      "hidden4 (Flatten)            (None, 72)                0         \n",
      "_________________________________________________________________\n",
      "dense_6 (Dense)              (None, 10)                730       \n",
      "=================================================================\n",
      "Total params: 19,758\n",
      "Trainable params: 19,758\n",
      "Non-trainable params: 0\n",
      "_________________________________________________________________\n",
      "None\n"
     ]
    }
   ],
   "source": [
    "from tensorflow.keras.optimizers import Adam\n",
    "\n",
    "model.compile(optimizer = Adam(),\n",
    "              metrics=['accuracy'],\n",
    "              loss='categorical_crossentropy')\n",
    "\n",
    "print(model.summary())"
   ]
  },
  {
   "cell_type": "markdown",
   "metadata": {},
   "source": [
    "Now everything is set for fitting your model.\n",
    "\n",
    "We will use a new trick here: we calculate validation error during fitting. The parameter *validation_split* in the fit method takes portion of data into validation set and does not use it for fitting. It will calculate validation error against this set in the end of each epoch. So, we have new validation set and the validation data that we already have is left as testing set (remember the division into fitting set, validation set, and testing set).\n",
    "\n",
    "Fitting the model might take few minutes. If it is too slow, you can reduce number of epochs, increase batch size, or change you CNN architecture."
   ]
  },
  {
   "cell_type": "code",
   "execution_count": 50,
   "metadata": {
    "scrolled": false
   },
   "outputs": [
    {
     "name": "stdout",
     "output_type": "stream",
     "text": [
      "Train on 54000 samples, validate on 6000 samples\n",
      "Epoch 1/40\n",
      "54000/54000 [==============================] - 17s 323us/step - loss: 0.1898 - acc: 0.9435 - val_loss: 0.0779 - val_acc: 0.9770\n",
      "Epoch 2/40\n",
      "54000/54000 [==============================] - 16s 292us/step - loss: 0.0996 - acc: 0.9708 - val_loss: 0.0916 - val_acc: 0.9760\n",
      "Epoch 3/40\n",
      "54000/54000 [==============================] - 16s 299us/step - loss: 0.0887 - acc: 0.9748 - val_loss: 0.0729 - val_acc: 0.9798\n",
      "Epoch 4/40\n",
      "54000/54000 [==============================] - 16s 305us/step - loss: 0.0824 - acc: 0.9773 - val_loss: 0.1158 - val_acc: 0.9718\n",
      "Epoch 5/40\n",
      "54000/54000 [==============================] - 16s 298us/step - loss: 0.0770 - acc: 0.9793 - val_loss: 0.1087 - val_acc: 0.9770\n",
      "Epoch 6/40\n",
      "54000/54000 [==============================] - 17s 315us/step - loss: 0.0751 - acc: 0.9806 - val_loss: 0.0884 - val_acc: 0.9795\n",
      "Epoch 7/40\n",
      "54000/54000 [==============================] - 17s 307us/step - loss: 0.0700 - acc: 0.9822 - val_loss: 0.1154 - val_acc: 0.9745\n",
      "Epoch 8/40\n",
      "54000/54000 [==============================] - 17s 309us/step - loss: 0.0664 - acc: 0.9834 - val_loss: 0.1037 - val_acc: 0.9790\n",
      "Epoch 9/40\n",
      "54000/54000 [==============================] - 17s 323us/step - loss: 0.0726 - acc: 0.9819 - val_loss: 0.1138 - val_acc: 0.9765\n",
      "Epoch 10/40\n",
      "54000/54000 [==============================] - 16s 290us/step - loss: 0.0618 - acc: 0.9843 - val_loss: 0.1162 - val_acc: 0.9780\n",
      "Epoch 11/40\n",
      "54000/54000 [==============================] - 20s 364us/step - loss: 0.0626 - acc: 0.9851 - val_loss: 0.1197 - val_acc: 0.9777\n",
      "Epoch 12/40\n",
      "54000/54000 [==============================] - 24s 440us/step - loss: 0.0588 - acc: 0.9862 - val_loss: 0.1529 - val_acc: 0.9765\n",
      "Epoch 13/40\n",
      "54000/54000 [==============================] - 17s 316us/step - loss: 0.0657 - acc: 0.9862 - val_loss: 0.1443 - val_acc: 0.9795\n",
      "Epoch 14/40\n",
      "54000/54000 [==============================] - 19s 343us/step - loss: 0.0608 - acc: 0.9867 - val_loss: 0.1310 - val_acc: 0.9800\n",
      "Epoch 15/40\n",
      "54000/54000 [==============================] - 18s 328us/step - loss: 0.0606 - acc: 0.9879 - val_loss: 0.2190 - val_acc: 0.9723\n",
      "Epoch 16/40\n",
      "54000/54000 [==============================] - 18s 335us/step - loss: 0.0595 - acc: 0.9878 - val_loss: 0.1543 - val_acc: 0.9803\n",
      "Epoch 17/40\n",
      "54000/54000 [==============================] - 18s 332us/step - loss: 0.0663 - acc: 0.9872 - val_loss: 0.1727 - val_acc: 0.9747\n",
      "Epoch 18/40\n",
      "54000/54000 [==============================] - 19s 346us/step - loss: 0.0704 - acc: 0.9872 - val_loss: 0.1590 - val_acc: 0.9798\n",
      "Epoch 19/40\n",
      "54000/54000 [==============================] - 18s 325us/step - loss: 0.0592 - acc: 0.9885 - val_loss: 0.1750 - val_acc: 0.9798\n",
      "Epoch 20/40\n",
      "54000/54000 [==============================] - 18s 338us/step - loss: 0.0674 - acc: 0.9881 - val_loss: 0.2093 - val_acc: 0.9750\n",
      "Epoch 21/40\n",
      "54000/54000 [==============================] - 19s 348us/step - loss: 0.0727 - acc: 0.9886 - val_loss: 0.1767 - val_acc: 0.9793\n",
      "Epoch 22/40\n",
      "54000/54000 [==============================] - 21s 381us/step - loss: 0.0783 - acc: 0.9875 - val_loss: 0.1884 - val_acc: 0.9772\n",
      "Epoch 23/40\n",
      "54000/54000 [==============================] - 20s 365us/step - loss: 0.0723 - acc: 0.9886 - val_loss: 0.1850 - val_acc: 0.9815\n",
      "Epoch 24/40\n",
      "54000/54000 [==============================] - 19s 348us/step - loss: 0.0783 - acc: 0.9887 - val_loss: 0.2305 - val_acc: 0.9785\n",
      "Epoch 25/40\n",
      "54000/54000 [==============================] - 20s 371us/step - loss: 0.0889 - acc: 0.9886 - val_loss: 0.2388 - val_acc: 0.9785\n",
      "Epoch 26/40\n",
      "54000/54000 [==============================] - 18s 340us/step - loss: 0.0982 - acc: 0.9881 - val_loss: 0.2244 - val_acc: 0.9778\n",
      "Epoch 27/40\n",
      "54000/54000 [==============================] - 19s 356us/step - loss: 0.0855 - acc: 0.9897 - val_loss: 0.2422 - val_acc: 0.9780\n",
      "Epoch 28/40\n",
      "54000/54000 [==============================] - 20s 367us/step - loss: 0.1004 - acc: 0.9890 - val_loss: 0.2326 - val_acc: 0.9778\n",
      "Epoch 29/40\n",
      "54000/54000 [==============================] - 19s 360us/step - loss: 0.1002 - acc: 0.9895 - val_loss: 0.2336 - val_acc: 0.9793\n",
      "Epoch 30/40\n",
      "54000/54000 [==============================] - 20s 362us/step - loss: 0.1169 - acc: 0.9888 - val_loss: 0.3220 - val_acc: 0.9743\n",
      "Epoch 31/40\n",
      "54000/54000 [==============================] - 19s 345us/step - loss: 0.1169 - acc: 0.9891 - val_loss: 0.2688 - val_acc: 0.9788\n",
      "Epoch 32/40\n",
      "54000/54000 [==============================] - 20s 367us/step - loss: 0.1421 - acc: 0.9880 - val_loss: 0.2496 - val_acc: 0.9822\n",
      "Epoch 33/40\n",
      "54000/54000 [==============================] - 19s 358us/step - loss: 0.1586 - acc: 0.9876 - val_loss: 0.2940 - val_acc: 0.9798\n",
      "Epoch 34/40\n",
      "54000/54000 [==============================] - 20s 362us/step - loss: 0.1661 - acc: 0.9877 - val_loss: 0.2859 - val_acc: 0.9798\n",
      "Epoch 35/40\n",
      "54000/54000 [==============================] - 21s 388us/step - loss: 0.1651 - acc: 0.9880 - val_loss: 0.2422 - val_acc: 0.9843\n",
      "Epoch 36/40\n",
      "54000/54000 [==============================] - 21s 381us/step - loss: 0.1666 - acc: 0.9882 - val_loss: 0.2302 - val_acc: 0.9842\n",
      "Epoch 37/40\n",
      "54000/54000 [==============================] - 19s 352us/step - loss: 0.2056 - acc: 0.9860 - val_loss: 0.2560 - val_acc: 0.9832\n",
      "Epoch 38/40\n",
      "54000/54000 [==============================] - 20s 374us/step - loss: 0.2130 - acc: 0.9853 - val_loss: 0.3012 - val_acc: 0.9797\n",
      "Epoch 39/40\n",
      "54000/54000 [==============================] - 19s 360us/step - loss: 0.2115 - acc: 0.9856 - val_loss: 0.3235 - val_acc: 0.9795\n",
      "Epoch 40/40\n",
      "54000/54000 [==============================] - 20s 367us/step - loss: 0.2074 - acc: 0.9859 - val_loss: 0.3418 - val_acc: 0.9778\n"
     ]
    },
    {
     "data": {
      "text/plain": [
       "<tensorflow.python.keras.callbacks.History at 0x7fc3b3335128>"
      ]
     },
     "execution_count": 50,
     "metadata": {},
     "output_type": "execute_result"
    }
   ],
   "source": [
    "model.fit(input_values,\n",
    "          output_values,\n",
    "          batch_size=20,\n",
    "          epochs=40,\n",
    "          shuffle=True,\n",
    "          verbose=1,\n",
    "          validation_split=0.1)"
   ]
  },
  {
   "cell_type": "markdown",
   "metadata": {},
   "source": [
    "Model is ready. We can plot plot learning curve of the neural network using model history. Also, lets do model evaluation similarly as with the pre-trained model."
   ]
  },
  {
   "cell_type": "code",
   "execution_count": 51,
   "metadata": {
    "scrolled": false
   },
   "outputs": [
    {
     "data": {
      "image/png": "[encoded data removed]",
      "text/plain": [
       "<Figure size 432x288 with 1 Axes>"
      ]
     },
     "metadata": {
      "needs_background": "light"
     },
     "output_type": "display_data"
    },
    {
     "name": "stdout",
     "output_type": "stream",
     "text": [
      "              precision    recall  f1-score   support\n",
      "\n",
      "           0       0.98      0.99      0.99       980\n",
      "           1       0.98      0.99      0.99      1135\n",
      "           2       0.99      0.95      0.97      1032\n",
      "           3       0.99      0.97      0.98      1010\n",
      "           4       0.99      0.95      0.97       982\n",
      "           5       0.98      0.99      0.98       892\n",
      "           6       0.98      0.98      0.98       958\n",
      "           7       0.96      0.98      0.97      1028\n",
      "           8       0.96      0.98      0.97       974\n",
      "           9       0.95      0.99      0.97      1009\n",
      "\n",
      "   micro avg       0.98      0.98      0.98     10000\n",
      "   macro avg       0.98      0.98      0.98     10000\n",
      "weighted avg       0.98      0.98      0.98     10000\n",
      "\n",
      "[[ 972    0    1    0    0    0    5    0    1    1]\n",
      " [   0 1122    1    1    0    3    2    1    5    0]\n",
      " [   2   10  985    2    0    1    0   24    8    0]\n",
      " [   0    0    0  980    0   15    0    5    6    4]\n",
      " [   1    0    2    0  932    0    3    3    8   33]\n",
      " [   1    0    0    2    0  885    1    0    2    1]\n",
      " [   7    3    0    0    4    0  942    0    2    0]\n",
      " [   0    2    1    1    3    0    0 1007    2   12]\n",
      " [   5    0    0    0    0    1    4    2  957    5]\n",
      " [   0    3    0    1    3    1    0    3    3  995]]\n"
     ]
    }
   ],
   "source": [
    "# Plot the learning curve\n",
    "plt.title('Learning curve')\n",
    "plt.ylabel('Loss')\n",
    "plt.xlabel('Epoch')\n",
    "plt.plot(model.history.history['loss'], 'x-')\n",
    "plt.plot(model.history.history['val_loss'], 'o-')\n",
    "plt.show()\n",
    "\n",
    "# Do predictions for validation set.\n",
    "predictions = model.predict(input_values_valid)\n",
    "\n",
    "# Change predictions and true labels away from one-hot encoding\n",
    "predictions2 = [np.argmax(x) for x in predictions]\n",
    "true_values = [np.argmax(x) for x in output_values_valid]\n",
    "\n",
    "# Make report\n",
    "from sklearn.metrics import classification_report\n",
    "from sklearn.metrics import confusion_matrix\n",
    "\n",
    "report = classification_report(true_values, predictions2)\n",
    "confusion = confusion_matrix(true_values, predictions2)\n",
    "\n",
    "print(report)\n",
    "print(confusion)"
   ]
  },
  {
   "cell_type": "code",
   "execution_count": 56,
   "metadata": {},
   "outputs": [
    {
     "name": "stdout",
     "output_type": "stream",
     "text": [
      "True label:  [0. 0. 0. 0. 0. 0. 0. 0. 1. 0.]\n",
      "CNN output: [0. 0. 0. 0. 0. 0. 0. 0. 1. 0.]\n"
     ]
    },
    {
     "data": {
      "image/png": "[encoded data removed]",
      "text/plain": [
       "<Figure size 432x288 with 1 Axes>"
      ]
     },
     "metadata": {
      "needs_background": "light"
     },
     "output_type": "display_data"
    },
    {
     "name": "stdout",
     "output_type": "stream",
     "text": [
      "True label:  [0. 0. 0. 0. 1. 0. 0. 0. 0. 0.]\n",
      "CNN output: [0. 0. 0. 0. 1. 0. 0. 0. 0. 0.]\n"
     ]
    },
    {
     "data": {
      "image/png": "[encoded data removed]",
      "text/plain": [
       "<Figure size 432x288 with 1 Axes>"
      ]
     },
     "metadata": {
      "needs_background": "light"
     },
     "output_type": "display_data"
    },
    {
     "name": "stdout",
     "output_type": "stream",
     "text": [
      "True label:  [0. 0. 0. 0. 0. 0. 1. 0. 0. 0.]\n",
      "CNN output: [0. 0. 0. 0. 0. 0. 1. 0. 0. 0.]\n"
     ]
    },
    {
     "data": {
      "image/png": "[encoded data removed]",
      "text/plain": [
       "<Figure size 432x288 with 1 Axes>"
      ]
     },
     "metadata": {
      "needs_background": "light"
     },
     "output_type": "display_data"
    },
    {
     "name": "stdout",
     "output_type": "stream",
     "text": [
      "True label:  [0. 0. 0. 0. 0. 1. 0. 0. 0. 0.]\n",
      "CNN output: [0. 0. 0. 0. 0. 1. 0. 0. 0. 0.]\n"
     ]
    },
    {
     "data": {
      "image/png": "[encoded data removed]",
      "text/plain": [
       "<Figure size 432x288 with 1 Axes>"
      ]
     },
     "metadata": {
      "needs_background": "light"
     },
     "output_type": "display_data"
    },
    {
     "name": "stdout",
     "output_type": "stream",
     "text": [
      "True label:  [0. 0. 1. 0. 0. 0. 0. 0. 0. 0.]\n",
      "CNN output: [0. 0. 1. 0. 0. 0. 0. 0. 0. 0.]\n"
     ]
    },
    {
     "data": {
      "image/png": "[encoded data removed]",
      "text/plain": [
       "<Figure size 432x288 with 1 Axes>"
      ]
     },
     "metadata": {
      "needs_background": "light"
     },
     "output_type": "display_data"
    },
    {
     "name": "stdout",
     "output_type": "stream",
     "text": [
      "True label:  [0. 0. 0. 0. 0. 1. 0. 0. 0. 0.]\n",
      "CNN output: [0. 0. 0. 0. 0. 1. 0. 0. 0. 0.]\n"
     ]
    },
    {
     "data": {
      "image/png": "[encoded data removed]",
      "text/plain": [
       "<Figure size 432x288 with 1 Axes>"
      ]
     },
     "metadata": {
      "needs_background": "light"
     },
     "output_type": "display_data"
    },
    {
     "name": "stdout",
     "output_type": "stream",
     "text": [
      "True label:  [0. 0. 0. 0. 0. 0. 1. 0. 0. 0.]\n",
      "CNN output: [0. 0. 0. 0. 0. 0. 1. 0. 0. 0.]\n"
     ]
    },
    {
     "data": {
      "image/png": "[encoded data removed]",
      "text/plain": [
       "<Figure size 432x288 with 1 Axes>"
      ]
     },
     "metadata": {
      "needs_background": "light"
     },
     "output_type": "display_data"
    },
    {
     "name": "stdout",
     "output_type": "stream",
     "text": [
      "True label:  [0. 0. 0. 0. 0. 0. 0. 0. 1. 0.]\n",
      "CNN output: [0. 0. 0. 0. 0. 0. 0. 0. 1. 0.]\n"
     ]
    },
    {
     "data": {
      "image/png": "[encoded data removed]",
      "text/plain": [
       "<Figure size 432x288 with 1 Axes>"
      ]
     },
     "metadata": {
      "needs_background": "light"
     },
     "output_type": "display_data"
    },
    {
     "name": "stdout",
     "output_type": "stream",
     "text": [
      "True label:  [0. 0. 0. 0. 1. 0. 0. 0. 0. 0.]\n",
      "CNN output: [0. 0. 0. 0. 1. 0. 0. 0. 0. 0.]\n"
     ]
    },
    {
     "data": {
      "image/png": "[encoded data removed]",
      "text/plain": [
       "<Figure size 432x288 with 1 Axes>"
      ]
     },
     "metadata": {
      "needs_background": "light"
     },
     "output_type": "display_data"
    },
    {
     "name": "stdout",
     "output_type": "stream",
     "text": [
      "True label:  [0. 0. 0. 1. 0. 0. 0. 0. 0. 0.]\n",
      "CNN output: [0. 0. 0. 1. 0. 0. 0. 0. 0. 0.]\n"
     ]
    },
    {
     "data": {
      "image/png": "[encoded data removed]",
      "text/plain": [
       "<Figure size 432x288 with 1 Axes>"
      ]
     },
     "metadata": {
      "needs_background": "light"
     },
     "output_type": "display_data"
    }
   ],
   "source": [
    "# Print few predictions and corresponding true labels\n",
    "for sample in range(0, 10):\n",
    "    index = np.random.randint(0, 10000)\n",
    "    print('True label: ', output_values_valid[index])\n",
    "    print('CNN output:', np.round(predictions[index], 3))\n",
    "    plt.imshow(input_values_valid[index][:,:,-1])\n",
    "    plt.show()"
   ]
  },
  {
   "cell_type": "markdown",
   "metadata": {},
   "source": [
    "Notice, that your initial results are probably worse than with pre-trained model. This model had less filters in convolution layers.\n",
    "\n",
    "You can experiment with different number of neurons, teaching times, activation functions, and even with the CNN architecture to get better results.\n",
    "\n",
    "If you think that you should resume trainin, just call fit method again.\n",
    "\n",
    "When you are ready, save the model:"
   ]
  },
  {
   "cell_type": "code",
   "execution_count": 57,
   "metadata": {},
   "outputs": [],
   "source": [
    "model.save('./My_LeNet')"
   ]
  },
  {
   "cell_type": "code",
   "execution_count": null,
   "metadata": {},
   "outputs": [],
   "source": []
  }
 ],
 "metadata": {
  "kernelspec": {
   "display_name": "Python 3",
   "language": "python",
   "name": "python3"
  },
  "language_info": {
   "codemirror_mode": {
    "name": "ipython",
    "version": 3
   },
   "file_extension": ".py",
   "mimetype": "text/x-python",
   "name": "python",
   "nbconvert_exporter": "python",
   "pygments_lexer": "ipython3",
   "version": "3.6.8"
  }
 },
 "nbformat": 4,
 "nbformat_minor": 2
}
